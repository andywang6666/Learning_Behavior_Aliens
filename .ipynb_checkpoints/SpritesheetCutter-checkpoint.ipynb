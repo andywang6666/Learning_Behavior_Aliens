{
 "cells": [
  {
   "cell_type": "code",
   "execution_count": 1,
   "metadata": {},
   "outputs": [],
   "source": [
    "from PIL import Image"
   ]
  },
  {
   "cell_type": "code",
   "execution_count": 78,
   "metadata": {},
   "outputs": [],
   "source": [
    "def cutSpriteSheetFemale(file_path, save_location, base_num):\n",
    "    img = Image.open(file_path)\n",
    "    \n",
    "    x_coords = [900, 1700, 1900, 2700, 2800, 3600, 3800, 4650, 4900, 5750]\n",
    "    y_coords = [150, 550, 700, 1150, 1250, 1460, 1500, 1780, 1850, 2300, 2300, 2850]\n",
    "    \n",
    "    feature_name = {\n",
    "        0:'antenna',\n",
    "        1:'eyes',\n",
    "        2:'mouth',\n",
    "        3:'tail',\n",
    "        4:'arms',\n",
    "        5:'legs'\n",
    "    }\n",
    "    \n",
    "    for idx_y in range(len(y_coords) // 2):\n",
    "        iy = idx_y * 2\n",
    "        for idx_x in range(len(x_coords) // 2):\n",
    "            ix = idx_x * 2\n",
    "            cropped_img = img.crop((x_coords[ix], y_coords[iy], x_coords[ix + 1], y_coords[iy + 1]))\n",
    "            \n",
    "            name = '{}_{}_{}.png'.format(base_num, feature_name[idx_y], idx_x + 1)\n",
    "            cropped_img.save(save_location + name)\n",
    "    \n",
    "    cropped_body = img.crop((0, 1210, 770, 2490))\n",
    "    name = 'body_{}.png'.format(base_num)\n",
    "    cropped_body.save(save_location + name)\n",
    "    \n",
    "    cropped_head = img.crop((2960, 2930, 3540, 3480))\n",
    "    name = '{}_head_{}.png'.format(base_num, 1)\n",
    "    cropped_head.save(save_location + name)"
   ]
  },
  {
   "cell_type": "code",
   "execution_count": 79,
   "metadata": {},
   "outputs": [],
   "source": [
    "def cutSpriteSheetMale(file_path, save_location, base_num):\n",
    "    img = Image.open(file_path)\n",
    "    \n",
    "    x_coords = [860, 1820, 1860, 2780, 2820, 3760, 3840, 4770, 4840, 5790]\n",
    "    y_coords = [100, 470, 660, 940, 1100, 1450, 1550, 1920, 2060, 2540, 2790, 3140, 3160, 3560]\n",
    "    \n",
    "    feature_name = {\n",
    "        0:'antenna',\n",
    "        1:'eyes',\n",
    "        2:'mouth',\n",
    "        3:'tail',\n",
    "        4:'arms',\n",
    "        5:'gloves',\n",
    "        6:'legs'\n",
    "    }\n",
    "    \n",
    "    for idx_y in range(len(y_coords) // 2):\n",
    "        iy = idx_y * 2\n",
    "        for idx_x in range(len(x_coords) // 2):\n",
    "            ix = idx_x * 2\n",
    "            cropped_img = img.crop((x_coords[ix], y_coords[iy], x_coords[ix + 1], y_coords[iy + 1]))\n",
    "            \n",
    "            name = '{}_{}_{}.png'.format(base_num, feature_name[idx_y], idx_x + 1)\n",
    "            cropped_img.save(save_location + name)\n",
    "    \n",
    "    cropped_body = img.crop((0, 1250, 670, 2110))\n",
    "    name = 'body_{}.png'.format(base_num)\n",
    "    cropped_body.save(save_location + name)"
   ]
  },
  {
   "cell_type": "code",
   "execution_count": 80,
   "metadata": {},
   "outputs": [],
   "source": [
    "cutSpriteSheetFemale('Data/female_aliens.png', 'Data/Images/', 2)"
   ]
  },
  {
   "cell_type": "code",
   "execution_count": 81,
   "metadata": {},
   "outputs": [],
   "source": [
    "cutSpriteSheetMale('Data/male_aliens.png', 'Data/Images/', 1)"
   ]
  },
  {
   "cell_type": "code",
   "execution_count": null,
   "metadata": {},
   "outputs": [],
   "source": []
  }
 ],
 "metadata": {
  "kernelspec": {
   "display_name": "Python 3",
   "language": "python",
   "name": "python3"
  },
  "language_info": {
   "codemirror_mode": {
    "name": "ipython",
    "version": 3
   },
   "file_extension": ".py",
   "mimetype": "text/x-python",
   "name": "python",
   "nbconvert_exporter": "python",
   "pygments_lexer": "ipython3",
   "version": "3.7.1"
  }
 },
 "nbformat": 4,
 "nbformat_minor": 2
}
